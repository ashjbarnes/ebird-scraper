{
 "cells": [
  {
   "cell_type": "code",
   "execution_count": 1,
   "metadata": {},
   "outputs": [],
   "source": [
    "from selenium import webdriver\n",
    "from selenium.webdriver.common.by import By\n",
    "from selenium.webdriver.common.keys import Keys\n",
    "from selenium.webdriver.support.ui import WebDriverWait\n",
    "from selenium.webdriver.support.expected_conditions import presence_of_element_located\n",
    "from selenium.webdriver.support import expected_conditions as EC\n",
    "import os\n",
    "import urllib ## lets us download images\n",
    "\n",
    "import pickle as pk\n",
    "import genanki\n",
    "import time"
   ]
  },
  {
   "attachments": {},
   "cell_type": "markdown",
   "metadata": {},
   "source": [
    "## Load the bird dictionary we prepared earlier"
   ]
  },
  {
   "cell_type": "code",
   "execution_count": null,
   "metadata": {},
   "outputs": [],
   "source": [
    "bird_dict = pk.load(open(\"bird_dict\",\"wb\"))\n"
   ]
  },
  {
   "attachments": {},
   "cell_type": "markdown",
   "metadata": {},
   "source": [
    "## Generate Anki deck with the genanki package\n",
    "\n",
    "In this case, all of the media files are stored in a folder called 'downloads'"
   ]
  },
  {
   "cell_type": "code",
   "execution_count": null,
   "metadata": {},
   "outputs": [],
   "source": [
    "my_deck = genanki.Deck(\n",
    "  2059400110,\n",
    "  'BIRDS')\n",
    "\n",
    "\n",
    "## Add the media files to genanki so it knows where to find it\n",
    "my_package = genanki.Package(my_deck)\n",
    "media_files = os.listdir(\"test\")\n",
    "my_package.media_files = [\"test/\" + i for i in media_files]\n",
    "\n",
    "\n",
    "## create a 'model' for a card that has an image on it. WE can add text and stuff too\n",
    "with_img = genanki.Model(\n",
    "  1091735104,\n",
    "  'Simple Model with Media',\n",
    "  fields=[\n",
    "    {'name': 'Answer'},     ## This is the answer. In the simplest case, the bird's name. We could also add the infotext too\n",
    "    {'name': 'Photo'},      ## Add more fields if you want different media. For example maps, conservation status\n",
    "  ],\n",
    "  templates=[\n",
    "    {\n",
    "      'name': 'Card 1',\n",
    "      'qfmt': '{{Photo}}',              # AND THIS\n",
    "      'afmt': '{{FrontSide}}<hr id=\"answer\">{{Answer}} ',    ## If we wanted to modify the template of the answer, the {{Answer}} bit can be replaced with more fields\n",
    "    },\n",
    "  ])\n",
    "\n",
    "\n",
    "## Iterate through the bird dict\n",
    "\n",
    "for taxid in bird_dict:\n",
    "  name = bird_dict[taxid][\"name\"]\n",
    "  photo = f'<img src=\"{taxid}.png\">'\n",
    " \n",
    "  # elif file.split(\".\")[-1] == \"mp3\":## Include this for songs\n",
    "  #   name = file.split(\".\")[0]\n",
    "  #   media = f'[sound:{file}]'\n",
    "\n",
    "\n",
    "  ## Create an individual card (called a note)\n",
    "  note = genanki.Note(\n",
    "    model = with_img,\n",
    "    fields=[name,photo]\n",
    "  )\n",
    "\n",
    "  ## Add the note we just created to the deck\n",
    "  my_deck.add_note(note)\n",
    "\n",
    "## After the loop has finished, all notes have been added to the deck\n",
    "my_package.write_to_file('BIRDS.apkg')"
   ]
  }
 ],
 "metadata": {
  "kernelspec": {
   "display_name": "base",
   "language": "python",
   "name": "python3"
  },
  "language_info": {
   "codemirror_mode": {
    "name": "ipython",
    "version": 3
   },
   "file_extension": ".py",
   "mimetype": "text/x-python",
   "name": "python",
   "nbconvert_exporter": "python",
   "pygments_lexer": "ipython3",
   "version": "3.8.5"
  },
  "orig_nbformat": 4,
  "vscode": {
   "interpreter": {
    "hash": "635694053fe967a56eb815fe91f6cb57eec7d87e312f4866d82124418581df30"
   }
  }
 },
 "nbformat": 4,
 "nbformat_minor": 2
}
